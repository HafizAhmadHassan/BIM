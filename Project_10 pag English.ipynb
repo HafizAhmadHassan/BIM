{
 "cells": [
  {
   "cell_type": "code",
   "execution_count": null,
   "metadata": {},
   "outputs": [],
   "source": [
    "# Project of Biomedical Image Processing Course"
   ]
  },
  {
   "cell_type": "markdown",
   "metadata": {},
   "source": [
    "# Introduction\n",
    "\n",
    "Images: \n",
    "its characteristics:\n",
    "the possible representations-formats\n",
    "the dataset: some information (call with prof)\n",
    "the purpose of the project:\n",
    "the process summary:  Reginstration + Segmentation + TBSS + Analysis + Conclusions\n",
    "running TBSS involves a few simple steps:\n",
    "-create FA images from your diffusion study data\n",
    "-tbss_1_preproc - prepare your FA data in your TBSS working directory in the right format\n",
    "-tbss_2_reg - apply nonlinear registration of all FA images into standard space\n",
    "-tbss_3_postreg - create the mean FA image and skeletonise it\n",
    "-tbss_4_prestats - project all subjects' FA data onto the mean FA skeleton\n",
    "-stats (e.g., randomise) - feed the 4D projected FA data into GLM modelling and thresholding in order to find voxels which correlate with your model."
   ]
  },
  {
   "cell_type": "code",
   "execution_count": 1,
   "metadata": {},
   "outputs": [],
   "source": [
    "import itk"
   ]
  },
  {
   "cell_type": "markdown",
   "metadata": {},
   "source": [
    "# Registration"
   ]
  },
  {
   "cell_type": "markdown",
   "metadata": {},
   "source": [
    "May happen that some images are not aligned, so means that one is tilted with respect to the other; registration is the process whereby the images are aligned.\n",
    "We must represent the same anatomy in both images by creating aligned images. One location within an image is a particular row and column in 2d image, coordinates with the same bit of anatomy.\n"
   ]
  },
  {
   "cell_type": "markdown",
   "metadata": {},
   "source": [
    "# Segmentation"
   ]
  },
  {
   "cell_type": "code",
   "execution_count": null,
   "metadata": {},
   "outputs": [],
   "source": []
  },
  {
   "cell_type": "markdown",
   "metadata": {},
   "source": [
    "# TBB Application"
   ]
  },
  {
   "cell_type": "markdown",
   "metadata": {},
   "source": [
    "# Connectome"
   ]
  },
  {
   "cell_type": "markdown",
   "metadata": {},
   "source": [
    "# Analysis"
   ]
  },
  {
   "cell_type": "markdown",
   "metadata": {},
   "source": [
    "# Conclusion"
   ]
  },
  {
   "cell_type": "code",
   "execution_count": null,
   "metadata": {},
   "outputs": [],
   "source": []
  },
  {
   "cell_type": "markdown",
   "metadata": {},
   "source": []
  }
 ],
 "metadata": {
  "kernelspec": {
   "display_name": "Python 3 (ipykernel)",
   "language": "python",
   "name": "python3"
  },
  "language_info": {
   "codemirror_mode": {
    "name": "ipython",
    "version": 3
   },
   "file_extension": ".py",
   "mimetype": "text/x-python",
   "name": "python",
   "nbconvert_exporter": "python",
   "pygments_lexer": "ipython3",
   "version": "3.10.6"
  }
 },
 "nbformat": 4,
 "nbformat_minor": 2
}
