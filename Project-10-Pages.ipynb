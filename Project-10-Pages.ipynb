{
 "cells": [
  {
   "cell_type": "markdown",
   "metadata": {},
   "source": [
    "# Project of Biomedical Image Processing Course"
   ]
  },
  {
   "cell_type": "markdown",
   "metadata": {},
   "source": [
    "# Objective"
   ]
  },
  {
   "cell_type": "markdown",
   "metadata": {},
   "source": [
    "The purpose of the project is to apply the Tract-based spatial statistics (TBSS) technique to investigate a group of subjects affected by the Fabry disease. In particular, we are going to study whether the Tract-based spatial statistics technique is able to differentiate the two groups of subjects (patients vs controls).\n",
    "\n",
    "To acchieve this objective the TBB application with the pre-processing of dataset, the reginstration and segmentation of DTI,the creation of tractography and connectome of the patients' brain vs controls are needed to provide both analysis and conclusions.\n",
    "\n"
   ]
  },
  {
   "cell_type": "markdown",
   "metadata": {},
   "source": [
    "# Introduction"
   ]
  },
  {
   "cell_type": "markdown",
   "metadata": {},
   "source": [
    "***The structure of the brain***\n",
    "\n",
    "The brain is composed of gray matter and white matter. \n",
    "In particular, the gray matter is mainly made up of sets of cellular bodies, in which higher functions such as thought calculation capacity, movement, perception and processing of the senses, etc. \n",
    "The white matter is mostly composed of nerve fibers, and constitutes the \"road network\" through which information and signals shared between neurons travel, expressing a coordinated work of the different brain regions [1].\n",
    "\n",
    "<img src=\"./img7.png\" width=\"400\" height=\"200\">\n",
    "Figure 1: Brain regions[2]\n",
    "\n",
    "\n",
    "***The MRI Scanner Cutaway***\n",
    "\n",
    "It is not possible to study the microstructure of the brain using X-rays because the brain is a fibrous soft tissue. It is necessary to perform Magnetic Resonance Imaging (MRI) images, a non-invasive technique capable of characterizing in-vivo tissues with millimeter accuracy thanks to the physical principles on which it is based and theorized in the theory of electromagnetism, in the theory of Zeeman effect, in the Boltzmann equation, in the theory of the Wobble effect in relation to the magnetic moment of brain atoms, etc.\n",
    "\n",
    "<img src=\"./img6.png\" width=\"500\" height=\"300\">\n",
    "Figure 1: MRI Scanner Cutaway[3]\n",
    "\n",
    "\n",
    "***The Diffusion***\n",
    "\n",
    "The concept of diffusion is explained in the picture below by molecules:\n",
    "<img src=\"./img1.png\" width=\"400\" height=\"200\">\n",
    "Figure 2: equal and not equal acquisition in all directions[4].\n",
    "\n",
    "\n",
    "***The Fabry disease***\n",
    "\n",
    "Fabry disease (also called Anderson-Fabry) is a lysosomal storage disease first described by physicians Johannes Fabry and William Anderson in 1898, characterized by progressive physical deterioration due to deficiency of the GLA gene coding for the enzyme α-galactosidase. Indeed, it causes an accumulation of glycolipids in the tissues and/or the occlusion of blood vessels. It's recessive hereditary disease linked to the X chromosome and it leads to a wide range of symptoms affecting many organs, including the kidneys, heart and brain. The frequency and severity of the symptoms increase with age[5].\n",
    "\n"
   ]
  },
  {
   "cell_type": "markdown",
   "metadata": {},
   "source": [
    "# Dataset  \n",
    "\n",
    "ASK PROF: \n",
    "the datasets and patient MRI tecniques or others...\n",
    "the possible representations-formats\n",
    "\n",
    "\n",
    "\n",
    "\n",
    "We will see how the datasets provided will be managed in FSL.\n",
    "Let us have a look how our datasets looks like. It contains neuroimaging pictures with an extension of **'nii'**"
   ]
  },
  {
   "cell_type": "markdown",
   "metadata": {},
   "source": [
    "We have two group of data: \n",
    "1. Control\n",
    "2. Patients\n",
    "\n",
    "The directory format of the two datasets is the follwing:"
   ]
  },
  {
   "cell_type": "code",
   "execution_count": 6,
   "metadata": {},
   "outputs": [
    {
     "name": "stdout",
     "output_type": "stream",
     "text": [
      "Directory\n",
      "Structure\n"
     ]
    }
   ],
   "source": [
    "print(\"Directory\")\n",
    "\"\"\"\n",
    "├── FD\n",
    "│   ├── Control\n",
    "│   │   ├── HC_001\n",
    "│   |   |   ├── DTI\n",
    "│   |   |   |    ├── HC_001_bvals.txt  \n",
    "|   |   |   |    ├── HC_001_bvecs.txt \n",
    "|   |   |   |    ├── HC_001_data_mask.nii.gz \n",
    "|   |   |   |    ├── HC_001_data.nii.gz\n",
    "│   |   |   ├── T1\n",
    "|   |   |   |    ├── aparc+aseg.nii.gz \n",
    "|   |   |   |    ├── T1_data.nii.gz\n",
    "│   ├── Patient\n",
    "│   │   ├── FD_001\n",
    "│   |   |   ├── DTI\n",
    "│   |   |   |    ├── FD_001_bvals.txt  \n",
    "|   |   |   |    ├── FD_001_bvecs.txt \n",
    "|   |   |   |    ├── FD_001_data_mask.nii.gz \n",
    "|   |   |   |    ├── FD_001_data.nii.gz\n",
    "│   |   |   ├── T1\n",
    "|   |   |   |    ├── aparc+aseg.nii.gz \n",
    "|   |   |   |    ├── T1_data.nii.gz\n",
    "|___|___|___|____|__\n",
    "\n",
    "\"\"\"\n",
    "print(\"Structure\")\n"
   ]
  },
  {
   "cell_type": "markdown",
   "metadata": {},
   "source": [
    "In particular, bvals and bvecs respectively contains the values to determine direction and how much diffusion is going in specific voxel or in specific track. "
   ]
  },
  {
   "cell_type": "markdown",
   "metadata": {},
   "source": [
    "# TBB Application"
   ]
  },
  {
   "cell_type": "markdown",
   "metadata": {},
   "source": [
    "TO DO:\n",
    "TBSS is a suite of tools for analyzing diffusion data. This software uses a tensor-fitting method to generate different measures of diffusion, such as fractional anisotropy (FA) and mean diffusivity (MD).\n",
    "https://andysbrainbook.readthedocs.io/en/stable/TBSS/TBSS_Overview.html\n",
    "\n",
    "Running TBSS involves the following steps:\n",
    "- 1) create FA images from the diffusion study data and manage it\n",
    "- 2) use tbss_1_preproc: prepare FA data in TBSS working directory in the right format\n",
    "- 3) use tbss_2_reg: apply nonlinear registration of all FA images into standard space\n",
    "- 4) use tbss_3_postreg: create the mean FA image and skeletonise it\n",
    "- 5) use tbss_4_prestats: project all subjects' FA data onto the mean FA skeleton\n",
    "- 6) stats (e.g., randomise): feed the 4D projected FA data into GLM modelling and thresholding in order to find voxels which correlate with your model."
   ]
  },
  {
   "cell_type": "markdown",
   "metadata": {},
   "source": []
  },
  {
   "cell_type": "markdown",
   "metadata": {},
   "source": [
    "## Creation of FA images"
   ]
  },
  {
   "cell_type": "code",
   "execution_count": null,
   "metadata": {},
   "outputs": [],
   "source": []
  },
  {
   "cell_type": "markdown",
   "metadata": {},
   "source": [
    "## Motion Correction Results FA Images\n",
    "**Eddy Current Correction**"
   ]
  },
  {
   "cell_type": "markdown",
   "metadata": {},
   "source": [
    "The first thing we need to do  motion correction or eddy current correction.\n",
    "\n",
    "ADD DETAILSSSS"
   ]
  },
  {
   "cell_type": "markdown",
   "metadata": {},
   "source": [
    "Firstly, open FSL: "
   ]
  },
  {
   "cell_type": "code",
   "execution_count": 8,
   "metadata": {},
   "outputs": [],
   "source": [
    "!fsl"
   ]
  },
  {
   "cell_type": "markdown",
   "metadata": {},
   "source": [
    "Afterwards, clicking on FDT diffusion, set the directory as the current wrorking directory.\n",
    "\n",
    "Follwing images shows steps in sequence which results FA images"
   ]
  },
  {
   "cell_type": "markdown",
   "metadata": {},
   "source": [
    "<img src=\"./img2.png\" width=\"400\" height=\"200\">"
   ]
  },
  {
   "cell_type": "markdown",
   "metadata": {},
   "source": [
    "<img src=\"./img3.png\" width=\"400\" height=\"200\">"
   ]
  },
  {
   "cell_type": "markdown",
   "metadata": {},
   "source": [
    "<img src=\"./img4.png\" width=\"400\" height=\"200\">"
   ]
  },
  {
   "cell_type": "markdown",
   "metadata": {},
   "source": [
    "## Visualise FA image"
   ]
  },
  {
   "cell_type": "markdown",
   "metadata": {},
   "source": [
    "Above you can see bunch of output files we can Visualise with prefix \"dti\". We can visualise Fractional Anistopy image with FSL view"
   ]
  },
  {
   "cell_type": "code",
   "execution_count": 2,
   "metadata": {},
   "outputs": [
    {
     "data": {
      "text/plain": [
       "'/home/giulia/LABORATORIO'"
      ]
     },
     "execution_count": 2,
     "metadata": {},
     "output_type": "execute_result"
    }
   ],
   "source": [
    "pwd"
   ]
  },
  {
   "cell_type": "code",
   "execution_count": 3,
   "metadata": {},
   "outputs": [
    {
     "name": "stdout",
     "output_type": "stream",
     "text": [
      "unrecognized arguments: /FD/Control/HC_001/DTI/dti_FA*.nii.gz\r\n",
      "FSLeyes version 1.6.1\r\n",
      "Usage: fsleyes [options] file [displayOpts] file [displayOpts] ...\r\n"
     ]
    }
   ],
   "source": [
    "path_Hassan = '/home/giulia/LABORATORIO'  \n",
    "path_Giulia = '/Users/hassan/Documents/GitHub/BIM'\n",
    "\n",
    " # Get Current Working Directory    \n",
    "import os\n",
    "os.getcwd()   \n",
    "!fsleyes /FD/Control/HC_001/DTI/dti_FA*.nii.gz"
   ]
  },
  {
   "cell_type": "markdown",
   "metadata": {},
   "source": [
    "The following is the output"
   ]
  },
  {
   "cell_type": "markdown",
   "metadata": {},
   "source": [
    "<img src=\"./img5.png\" width=\"400\" height=\"200\">"
   ]
  },
  {
   "cell_type": "markdown",
   "metadata": {},
   "source": [
    "## Pre-Processing Dataset"
   ]
  },
  {
   "cell_type": "markdown",
   "metadata": {},
   "source": [
    "Preprocessing dataset is very essential contains solution of lot of problems. Steps are outlined in the following order"
   ]
  },
  {
   "cell_type": "markdown",
   "metadata": {},
   "source": [
    "### Correction of Distortion or Motion DTI"
   ]
  },
  {
   "cell_type": "markdown",
   "metadata": {},
   "source": [
    "- DTI on someways anolouges to fMRI analysis in lot of cases. Sometimes we have field map where there are information about distortion in Megnatic Field.\n",
    "\n",
    "- Normal techniques are subtracting the images and try to get out from distortions.\n",
    "\n",
    "- In this subject we will use **topup** in FSL its a command line tool. We can get rid distortion in that case. \n",
    "\n",
    "Let us start"
   ]
  },
  {
   "cell_type": "markdown",
   "metadata": {},
   "source": [
    "**Open command-line point to directory**\n",
    "\n",
    "- cd Documents/Github/BIM\n",
    "\n",
    "**Point to subject in Control** \n",
    "\n",
    "- cd FD\n",
    "- cd Control\n",
    "- cd HC_001\n",
    "- cd DTI\n",
    "\n",
    "**Create Preprocess Dir**\n",
    "\n",
    "- mkdir HC_001_preproc\n",
    "- fslroi dti_FA.nii.gz nodif 0 1\n",
    "\n",
    "it will create nodif.nii.gz\n",
    "- fslmerge -t AP_PA_b0 nodif nodif_PA\n"
   ]
  },
  {
   "cell_type": "markdown",
   "metadata": {},
   "source": [
    "## Registration"
   ]
  },
  {
   "cell_type": "markdown",
   "metadata": {},
   "source": [
    "May happen that some images are not aligned, so means that one is tilted with respect to the other; registration is the process whereby the images are aligned.\n",
    "We must represent the same anatomy in both images by creating aligned images. One location within an image is a particular row and column in 2d image, coordinates with the same bit of anatomy.\n"
   ]
  },
  {
   "cell_type": "markdown",
   "metadata": {},
   "source": [
    "## Segmentation"
   ]
  },
  {
   "cell_type": "code",
   "execution_count": null,
   "metadata": {},
   "outputs": [],
   "source": []
  },
  {
   "cell_type": "markdown",
   "metadata": {},
   "source": []
  },
  {
   "cell_type": "markdown",
   "metadata": {},
   "source": []
  },
  {
   "cell_type": "markdown",
   "metadata": {},
   "source": [
    "## Tractography"
   ]
  },
  {
   "cell_type": "code",
   "execution_count": null,
   "metadata": {},
   "outputs": [],
   "source": []
  },
  {
   "cell_type": "markdown",
   "metadata": {},
   "source": [
    "## Connectome"
   ]
  },
  {
   "cell_type": "code",
   "execution_count": null,
   "metadata": {},
   "outputs": [],
   "source": []
  },
  {
   "cell_type": "markdown",
   "metadata": {},
   "source": [
    "## Metrics"
   ]
  },
  {
   "cell_type": "code",
   "execution_count": null,
   "metadata": {},
   "outputs": [],
   "source": []
  },
  {
   "cell_type": "markdown",
   "metadata": {},
   "source": [
    "## Analysis"
   ]
  },
  {
   "cell_type": "code",
   "execution_count": null,
   "metadata": {},
   "outputs": [],
   "source": []
  },
  {
   "cell_type": "markdown",
   "metadata": {},
   "source": [
    "## Conclusion"
   ]
  },
  {
   "cell_type": "code",
   "execution_count": null,
   "metadata": {},
   "outputs": [],
   "source": []
  },
  {
   "cell_type": "markdown",
   "metadata": {},
   "source": [
    "## Bibliography"
   ]
  },
  {
   "cell_type": "markdown",
   "metadata": {},
   "source": [
    "- Hagmann P., Jonasson L., Maeder P., et al. (2006). Understanding diffusion MR imaging techniques: from scalar diffusion-weighted imaging to diffusion tensor imaging and beyond. Radiographics, 26(suppl_1), S205-S223.\n",
    "- https://www.britannica.com/summary/brain\n",
    "- Mohammad Sabbih Hamoud Al-Tamimi Ghazali Sulong, ―Tumor brain detection through MR Images: A review literature, Journal of Theoretical and Applied Information Technology, vol. 62 no. 2, 20 April 2014.\n",
    "- link della figura 2\n",
    "- Hoffmann B. Fabry disease: recent advances in pathology, diagnosis, treatment and monitoring. Orphanet J Rare Dis. 2009 Oct 11; 4:21.\n",
    "\n",
    "- [user guidelines Commands](https://mrtrix.readthedocs.io/en/latest/reference/commands/tcksample.html)\n",
    "- [user guidelines FDT](https://fsl.fmrib.ox.ac.uk/fsl/fslwiki/FDT) \n",
    "- [user guidelines TBSS](https://fsl.fmrib.ox.ac.uk/fsl/fslwiki/TBSS/UserGuide)\n",
    "- [user guidelines TBSS](https://andysbrainbook.readthedocs.io/en/stable/TBSS/TBSS_Overview.html)\n"
   ]
  },
  {
   "cell_type": "markdown",
   "metadata": {},
   "source": [
    "## Software Requirements"
   ]
  },
  {
   "cell_type": "markdown",
   "metadata": {},
   "source": [
    "### MACOS Setup"
   ]
  },
  {
   "cell_type": "markdown",
   "metadata": {},
   "source": [
    "### MACOS Setup"
   ]
  },
  {
   "cell_type": "markdown",
   "metadata": {},
   "source": [
    "It will be explained later\n",
    "\n",
    "\n",
    "- Sudo su (without su not worked)\n",
    "- Following is the [link](https://www.youtube.com/watch?v=LgRZLev1LRw)\n",
    "- export PATH=/usr/local/fsl/bin:$PATH\n",
    "- PATH=/usr/local/fsl/bin:${PATH}\n",
    "- export FSLDIR=/usr/local/fsl\n",
    "- Go to Terminal Type __ fsleyes\n",
    "- You need to set the FSLDIR environment variable to point to the FSL installation directory before you can run anything.\n",
    "- You need to source an FSL setup file - either fsl.sh or fsl.csh in $FSLDIR/etc/fslconf \n",
    "- cd $FSLDIR/etc/fslconf\n",
    "- source fsl.sh\n",
    "- fsl\n",
    "- Shell-script fsl.sh \n",
    "\n",
    "nano .zshrc to add things"
   ]
  },
  {
   "cell_type": "code",
   "execution_count": null,
   "metadata": {},
   "outputs": [],
   "source": []
  },
  {
   "cell_type": "markdown",
   "metadata": {},
   "source": []
  },
  {
   "cell_type": "code",
   "execution_count": null,
   "metadata": {},
   "outputs": [],
   "source": []
  },
  {
   "cell_type": "code",
   "execution_count": null,
   "metadata": {},
   "outputs": [],
   "source": []
  },
  {
   "cell_type": "code",
   "execution_count": null,
   "metadata": {},
   "outputs": [],
   "source": []
  }
 ],
 "metadata": {
  "kernelspec": {
   "display_name": "Python 3 (ipykernel)",
   "language": "python",
   "name": "python3"
  },
  "language_info": {
   "codemirror_mode": {
    "name": "ipython",
    "version": 3
   },
   "file_extension": ".py",
   "mimetype": "text/x-python",
   "name": "python",
   "nbconvert_exporter": "python",
   "pygments_lexer": "ipython3",
   "version": "3.10.6"
  }
 },
 "nbformat": 4,
 "nbformat_minor": 2
}
