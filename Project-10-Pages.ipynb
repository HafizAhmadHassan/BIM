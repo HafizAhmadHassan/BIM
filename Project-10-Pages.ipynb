{
 "cells": [
  {
   "attachments": {},
   "cell_type": "markdown",
   "metadata": {},
   "source": [
    "# Project of Biomedical Image Processing Course"
   ]
  },
  {
   "attachments": {},
   "cell_type": "markdown",
   "metadata": {},
   "source": [
    "## Software Requirements\n"
   ]
  },
  {
   "attachments": {},
   "cell_type": "markdown",
   "metadata": {},
   "source": [
    "### MACOS Setup"
   ]
  },
  {
   "attachments": {},
   "cell_type": "markdown",
   "metadata": {},
   "source": [
    " \n",
    "It will be explained later\n",
    "\n",
    "\n",
    "- Sudo su (without su not worked)\n",
    "- Following is the [link](https://www.youtube.com/watch?v=LgRZLev1LRw)\n",
    "- export PATH=/usr/local/fsl/bin:$PATH\n",
    "- PATH=/usr/local/fsl/bin:${PATH}\n",
    "- export FSLDIR=/usr/local/fsl\n",
    "- Go to Terminal Type __ fsleyes\n",
    "- You need to set the FSLDIR environment variable to point to the FSL installation directory before you can run anything.\n",
    "- You need to source an FSL setup file - either fsl.sh or fsl.csh in $FSLDIR/etc/fslconf \n",
    "- cd $FSLDIR/etc/fslconf\n",
    "- source fsl.sh\n",
    "- fsl\n",
    "- Shell-script fsl.sh \n",
    "\n",
    "nano .zshrc to add things"
   ]
  },
  {
   "attachments": {},
   "cell_type": "markdown",
   "metadata": {},
   "source": [
    "## Introduction"
   ]
  },
  {
   "attachments": {},
   "cell_type": "markdown",
   "metadata": {},
   "source": [
    "\n",
    "\n",
    "we are using following [user guidelines](https://fsl.fmrib.ox.ac.uk/fsl/fslwiki/FDT) \n",
    "\n",
    "\n",
    "Images: \n",
    "\n",
    "its characteristics:\n",
    "the possible representations-formats\n",
    "the dataset: some information (call with prof)\n",
    "the purpose of the project:\n",
    "the process summary:  Reginstration + Segmentation + TBSS + Analysis + Conclusions\n",
    "running TBSS involves a few simple steps:\n",
    "- create FA images from your diffusion study data\n",
    "- tbss_1_preproc - prepare your FA data in your TBSS working directory in the right format\n",
    "- tbss_2_reg - apply nonlinear registration of all FA images into standard space\n",
    "- tbss_3_postreg \n",
    "- create the mean FA image and skeletonise it\n",
    "- tbss_4_prestats \n",
    "- project all subjects' FA data onto the mean FA skeleton\n",
    "-stats (e.g., randomise) - feed the 4D projected FA data into GLM modelling and thresholding in order to find voxels which correlate with your model.\n",
    "\n"
   ]
  },
  {
   "attachments": {},
   "cell_type": "markdown",
   "metadata": {},
   "source": [
    "## Background\n"
   ]
  },
  {
   "attachments": {},
   "cell_type": "markdown",
   "metadata": {},
   "source": [
    "\n",
    "### Diffusion"
   ]
  },
  {
   "attachments": {},
   "cell_type": "markdown",
   "metadata": {},
   "source": [
    "Concept of diffusion is explained in the picture below with the molucules"
   ]
  },
  {
   "attachments": {},
   "cell_type": "markdown",
   "metadata": {},
   "source": [
    "\n",
    "<img src=\"./img1.png\" width=\"400\" height=\"200\">"
   ]
  },
  {
   "attachments": {},
   "cell_type": "markdown",
   "metadata": {},
   "source": [
    "## 1. Create FA images from your diffusion study data"
   ]
  },
  {
   "cell_type": "code",
   "execution_count": 1,
   "metadata": {},
   "outputs": [],
   "source": [
    "import itk"
   ]
  },
  {
   "attachments": {},
   "cell_type": "markdown",
   "metadata": {},
   "source": [
    "# Registration"
   ]
  },
  {
   "attachments": {},
   "cell_type": "markdown",
   "metadata": {},
   "source": [
    "May happen that some images are not aligned, so means that one is tilted with respect to the other; registration is the process whereby the images are aligned.\n",
    "We must represent the same anatomy in both images by creating aligned images. One location within an image is a particular row and column in 2d image, coordinates with the same bit of anatomy.\n"
   ]
  },
  {
   "attachments": {},
   "cell_type": "markdown",
   "metadata": {},
   "source": [
    "# Segmentation"
   ]
  },
  {
   "cell_type": "code",
   "execution_count": null,
   "metadata": {},
   "outputs": [],
   "source": []
  },
  {
   "attachments": {},
   "cell_type": "markdown",
   "metadata": {},
   "source": [
    "# TBB Application"
   ]
  },
  {
   "attachments": {},
   "cell_type": "markdown",
   "metadata": {},
   "source": [
    "# Connectome"
   ]
  },
  {
   "attachments": {},
   "cell_type": "markdown",
   "metadata": {},
   "source": [
    "# Analysis"
   ]
  },
  {
   "attachments": {},
   "cell_type": "markdown",
   "metadata": {},
   "source": [
    "# Conclusion"
   ]
  },
  {
   "cell_type": "code",
   "execution_count": null,
   "metadata": {},
   "outputs": [],
   "source": []
  },
  {
   "attachments": {},
   "cell_type": "markdown",
   "metadata": {},
   "source": []
  }
 ],
 "metadata": {
  "kernelspec": {
   "display_name": "Python 3 (ipykernel)",
   "language": "python",
   "name": "python3"
  },
  "language_info": {
   "codemirror_mode": {
    "name": "ipython",
    "version": 3
   },
   "file_extension": ".py",
   "mimetype": "text/x-python",
   "name": "python",
   "nbconvert_exporter": "python",
   "pygments_lexer": "ipython3",
   "version": "3.10.6"
  }
 },
 "nbformat": 4,
 "nbformat_minor": 2
}
