# TBSS to study Fabry disease
Apply the Tract-based spatial statistics (TBSS) technique to investigate a group of subjects affected by the Fabry disease. TBSS is implemented in the FSL toolbox and, as a guidance, you can follow this tutorial.
The goal is to study whether the Tract-based spatial statistics (TBSS) technique is able to differentiate the two groups of subjects (patients vs controls).
NB: you are expected to write a short report (in English, max 10 pages) which should describe the algorithms and the techniques you used, the implementation choices you made as well a discussion of the results you obtained. You will have 10'-15' to present your work in front of our research group (in English), followed by a 10'-15' discussion.
